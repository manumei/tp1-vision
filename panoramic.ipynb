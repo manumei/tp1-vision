{
 "cells": [
  {
   "cell_type": "markdown",
   "id": "94903a65",
   "metadata": {},
   "source": [
    "# TP1 Vision — Naomi Couriel & Manuel Meiriño"
   ]
  },
  {
   "cell_type": "markdown",
   "id": "6a755571",
   "metadata": {},
   "source": [
    "## Initial Samples\n",
    "\n",
    "<img src=\"img/cuadro_0.jpg\" width=\"500\">\n",
    "<img src=\"img/cuadro_1.jpg\" width=\"500\">\n",
    "<img src=\"img/cuadro_2.jpg\" width=\"500\">\n",
    "\n",
    "<img src=\"img/udesa_0.jpg\" width=\"500\">\n",
    "<img src=\"img/udesa_1.jpg\" width=\"500\">\n",
    "<img src=\"img/udesa_2.jpg\" width=\"500\">\n"
   ]
  },
  {
   "cell_type": "code",
   "execution_count": 1,
   "id": "bb9d7af8",
   "metadata": {},
   "outputs": [],
   "source": [
    "# Imports\n",
    "import matplotlib.pyplot as plt"
   ]
  }
 ],
 "metadata": {
  "kernelspec": {
   "display_name": "vision",
   "language": "python",
   "name": "python3"
  },
  "language_info": {
   "codemirror_mode": {
    "name": "ipython",
    "version": 3
   },
   "file_extension": ".py",
   "mimetype": "text/x-python",
   "name": "python",
   "nbconvert_exporter": "python",
   "pygments_lexer": "ipython3",
   "version": "3.13.5"
  }
 },
 "nbformat": 4,
 "nbformat_minor": 5
}
