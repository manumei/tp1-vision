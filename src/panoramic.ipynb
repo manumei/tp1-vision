{
 "cells": [
  {
   "cell_type": "markdown",
   "id": "a292ab38",
   "metadata": {},
   "source": [
    "##### _se sugiere para poder apreciar la estructura del repositorio, abrirlo con vs code usando la extension \"Material Icons\", que tiene todos los iconitos facheros para los file types y cuando pones nombres especiales a las folders como \"src\" o \"report\"_\n",
    "\n",
    "ejemplo:\n",
    "\n",
    "![DEM](../other/dem.png)\n"
   ]
  },
  {
   "cell_type": "markdown",
   "id": "94903a65",
   "metadata": {},
   "source": [
    "# el tepé"
   ]
  },
  {
   "cell_type": "code",
   "execution_count": null,
   "id": "0eeb698b",
   "metadata": {},
   "outputs": [],
   "source": [
    "# code"
   ]
  }
 ],
 "metadata": {
  "kernelspec": {
   "display_name": "vision",
   "language": "python",
   "name": "python3"
  },
  "language_info": {
   "name": "python",
   "version": "3.13.5"
  }
 },
 "nbformat": 4,
 "nbformat_minor": 5
}
